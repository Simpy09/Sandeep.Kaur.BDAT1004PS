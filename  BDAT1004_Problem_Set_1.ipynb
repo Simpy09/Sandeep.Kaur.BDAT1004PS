{
 "cells": [
  {
   "cell_type": "markdown",
   "id": "c9120e96",
   "metadata": {},
   "source": [
    " # BDAT 1004 - Data Programming Problem Set 1  Section -  03\n",
    " "
   ]
  },
  {
   "cell_type": "markdown",
   "id": "f566e0c6",
   "metadata": {},
   "source": [
    "# Question 1"
   ]
  },
  {
   "cell_type": "code",
   "execution_count": 1,
   "id": "46dc6688",
   "metadata": {},
   "outputs": [
    {
     "name": "stdout",
     "output_type": "stream",
     "text": [
      "<class 'int'>\n",
      "<class 'float'>\n",
      "<class 'bool'>\n",
      "<class 'str'>\n",
      "<class 'int'>\n",
      "<class 'str'>\n",
      "<class 'str'>\n",
      "<class 'float'>\n",
      "<class 'int'>\n",
      "<class 'set'>\n",
      "<class 'bool'>\n",
      "3.141592653589793\n",
      "<class 'float'>\n"
     ]
    }
   ],
   "source": [
    "print(type(5))\n",
    "print(type(5.0))\n",
    "print(type(5>1))\n",
    "print(type('5'))\n",
    "print(type(5*2))\n",
    "print(type('5'*2))\n",
    "print(type('5'+'2'))\n",
    "prin t(type(5/2))\n",
    "print(type(5%2))\n",
    "print(type({5, 2, 1}))\n",
    "print(type(5 == 3))\n",
    "import math \n",
    "pi = math.pi\n",
    "print(pi)\n",
    "print(type(pi))"
   ]
  },
  {
   "cell_type": "markdown",
   "id": "39ef24b6",
   "metadata": {},
   "source": [
    "# Question 2 (a)"
   ]
  },
  {
   "cell_type": "code",
   "execution_count": 2,
   "id": "4fe06ce3",
   "metadata": {},
   "outputs": [
    {
     "name": "stdout",
     "output_type": "stream",
     "text": [
      "34\n"
     ]
    }
   ],
   "source": [
    "string = \"Supercalifragilisticexpialidocious\"\n",
    "num_letters = len(string)\n",
    "print(num_letters)"
   ]
  },
  {
   "cell_type": "markdown",
   "id": "51e7621a",
   "metadata": {},
   "source": [
    "# Question 2 (b)"
   ]
  },
  {
   "cell_type": "code",
   "execution_count": 46,
   "id": "0accaf12",
   "metadata": {},
   "outputs": [
    {
     "name": "stdout",
     "output_type": "stream",
     "text": [
      "The given string contains the substring ice\n"
     ]
    }
   ],
   "source": [
    "string = \"Supercalifragilisticexpialidocious\"\n",
    "if 'ice' in string:  #checking ice is in the string as a substring\n",
    "    print(\"The given string contains the substring ice\")\n",
    "else:\n",
    "    print(\"The given string does not contains the substring ice\")"
   ]
  },
  {
   "cell_type": "markdown",
   "id": "c52dae60",
   "metadata": {},
   "source": [
    "# Question 2 (c)"
   ]
  },
  {
   "cell_type": "code",
   "execution_count": 22,
   "id": "6089ff3e",
   "metadata": {},
   "outputs": [
    {
     "name": "stdout",
     "output_type": "stream",
     "text": [
      "Supercalifragilisticexpialidocious\n"
     ]
    }
   ],
   "source": [
    "string = (\"Supercalifragilisticexpialidocious\", \"Honorificabilitudinitatibus\",\n",
    "\"Bababadalgharaghtakamminarronnkonn\")\n",
    "max=0\n",
    "for ele in string:     # checking element is in the string \n",
    "    if len(ele)>max:\n",
    "        max=len(ele)\n",
    "        max_word=ele\n",
    "        print(max_word)"
   ]
  },
  {
   "cell_type": "markdown",
   "id": "5c522e0a",
   "metadata": {},
   "source": [
    "# Question 2 (d)"
   ]
  },
  {
   "cell_type": "code",
   "execution_count": 5,
   "id": "487bb85c",
   "metadata": {},
   "outputs": [
    {
     "name": "stdout",
     "output_type": "stream",
     "text": [
      "First Composer in the Dictionary:  Bartok\n",
      "Last Composer in the Dictionary:  Buxtehude\n"
     ]
    }
   ],
   "source": [
    "comps = ['Berlioz', 'Borodin', 'Brian', 'Bartok', 'Bellini', 'Buxtehude', 'Bernstein']\n",
    "sorted_composers = sorted(comps)\n",
    "print(\"First Composer in the Dictionary: \", sorted_composers[0])\n",
    "print(\"Last Composer in the Dictionary: \", sorted_composers[-1])"
   ]
  },
  {
   "cell_type": "markdown",
   "id": "cb7eee68",
   "metadata": {},
   "source": [
    "# Question 3"
   ]
  },
  {
   "cell_type": "code",
   "execution_count": 48,
   "id": "3c893f9e",
   "metadata": {},
   "outputs": [
    {
     "name": "stdout",
     "output_type": "stream",
     "text": [
      "1.7320508075688772\n"
     ]
    }
   ],
   "source": [
    "import math \n",
    "\n",
    "def triangleArea(a,b,c):\n",
    "    \n",
    "    s = (a+b+c)/2 # calculating the fuction s as per formula\n",
    "    area_of_triangle = math.sqrt(s*(s-a)*(s-b)*(s-c)) #are of triangle is calculated as per formula which is mentioned \n",
    "    return area_of_triangle\n",
    "print(triangleArea(2,2,2))"
   ]
  },
  {
   "cell_type": "markdown",
   "id": "37614ac0",
   "metadata": {},
   "source": [
    "# Question 4"
   ]
  },
  {
   "cell_type": "code",
   "execution_count": 41,
   "id": "266ad8bb",
   "metadata": {},
   "outputs": [
    {
     "name": "stdout",
     "output_type": "stream",
     "text": [
      "enter the element to be stored in the array: 5\n",
      "element - 0 : 25\n",
      "element - 1 : 47\n",
      "element - 2 : 42\n",
      "element - 3 : 56\n",
      "element - 4 : 32\n",
      "The Even elements are: [42, 56, 32]\n",
      "The Odd elements are: [25, 47]\n"
     ]
    }
   ],
   "source": [
    "n = int(input(\"enter the element to be stored in the array: \")) # taking input from user and convert it into integer\n",
    "e_numbers = []\n",
    "o_numbers = []\n",
    "for i in range(n):\n",
    "    element = int(input(f\"element - {i} : \"))\n",
    "    if element % 2 == 0:\n",
    "        e_numbers.append(element)\n",
    "    else:\n",
    "        o_numbers.append(element)\n",
    "\n",
    "print(\"The Even elements are: {}\".format(e_numbers))\n",
    "print(\"The Odd elements are: {}\".format(o_numbers))"
   ]
  },
  {
   "cell_type": "markdown",
   "id": "9d560979",
   "metadata": {},
   "source": [
    "# Question 5 (a) and (b)"
   ]
  },
  {
   "cell_type": "code",
   "execution_count": 42,
   "id": "716d1bfb",
   "metadata": {},
   "outputs": [
    {
     "name": "stdout",
     "output_type": "stream",
     "text": [
      "True\n",
      "False\n",
      "False\n"
     ]
    }
   ],
   "source": [
    "def inside(x,y,x1,y1,x2,y2):\n",
    "    if x1<=x<=x2 and y1<=y<=y2: #check it is greater than equal to first coordinate and less than equal to second coordinate\n",
    "        return True\n",
    "    else:\n",
    "        return False\n",
    "\n",
    "print(inside(1,1,0,0,2,3))\n",
    "print(inside(-1,-1,0,0,2,3))\n",
    "print(inside(1,1,0.3,0.5,1.1,0.7) and inside(1,1,0.5,0.2,1.1,2))\n"
   ]
  },
  {
   "cell_type": "markdown",
   "id": "8c136574",
   "metadata": {},
   "source": [
    "# Question 6"
   ]
  },
  {
   "cell_type": "code",
   "execution_count": 43,
   "id": "2bc79ddf",
   "metadata": {},
   "outputs": [
    {
     "name": "stdout",
     "output_type": "stream",
     "text": [
      "appyhay\n",
      "enterway\n"
     ]
    }
   ],
   "source": [
    "def pig(word):\n",
    "    v = ['a','e','i','o','u']  #storaged all vowel in the list \n",
    "    word = word.lower()\n",
    "    if word[0] in v:  #check the first word of letter is vowel or not\n",
    "        return word + 'way'\n",
    "    else:\n",
    "        return word[1:] + word[0] + 'ay'\n",
    "\n",
    "print(pig('happy'))\n",
    "#print(pig('pencil'))\n",
    "print(pig('Enter'))\n",
    "#print(pig('Other'))"
   ]
  },
  {
   "cell_type": "markdown",
   "id": "2bf4054e",
   "metadata": {},
   "source": [
    "# Question 7"
   ]
  },
  {
   "cell_type": "code",
   "execution_count": 45,
   "id": "bf4cead6",
   "metadata": {},
   "outputs": [
    {
     "name": "stdout",
     "output_type": "stream",
     "text": [
      "There are 15 patients of blood type A. \n",
      "There is 1 patients of blood type B. \n",
      "There are 13 patients of blood type AB. \n",
      "There are 15 patients of blood type O. \n",
      "There are 0 patients of blood type OO. \n"
     ]
    }
   ],
   "source": [
    "in_file = open('bloodtype1.txt', 'r')\n",
    "\n",
    "lst = in_file.read().split()  #used the function of name split to convert every element of list\n",
    "\n",
    "\n",
    "a1=0\n",
    "a2=0\n",
    "a3=0\n",
    "a4=0\n",
    "a5=0\n",
    "for char in lst:\n",
    "    if(char == 'A'):\n",
    "        a1+=1\n",
    "    elif(char =='B'):\n",
    "        a2+=1\n",
    "    elif(char =='AB'):\n",
    "        a3+=1\n",
    "    elif(char =='O'):\n",
    "        a4+=1\n",
    "    elif(char =='OO'):\n",
    "        a5+=1\n",
    "\n",
    "print(\"There are {} patients of blood type A. \".format(a1))\n",
    "print(\"There is {} patients of blood type B. \".format(a2))\n",
    "print(\"There are {} patients of blood type AB. \".format(a3))\n",
    "print(\"There are {} patients of blood type O. \".format(a4))\n",
    "print(\"There are {} patients of blood type OO. \".format(a5))"
   ]
  },
  {
   "cell_type": "markdown",
   "id": "23bdc991",
   "metadata": {},
   "source": [
    "# Question 8"
   ]
  },
  {
   "cell_type": "code",
   "execution_count": 28,
   "id": "8f81f35d",
   "metadata": {},
   "outputs": [
    {
     "name": "stdout",
     "output_type": "stream",
     "text": [
      "122.96544\n",
      "1.241401\n"
     ]
    }
   ],
   "source": [
    "def curconv(Currency,Amount):\n",
    "    openfile=open('currencies.txt',\"r\")\n",
    "    readfile=openfile.readlines()\n",
    "    #print(readfile)\n",
    "    for line in readfile:\n",
    "        #print(line)\n",
    "        \n",
    "        spl=line.split('\\t')\n",
    "        if(Currency==spl[0]):\n",
    "            Currency=float(spl[1])*Amount\n",
    "            return Currency\n",
    "       \n",
    "\n",
    "      \n",
    "\n",
    "#print('JPY,100')\n",
    "print(curconv('EUR',100))\n",
    "print(curconv('JPY',100))"
   ]
  },
  {
   "cell_type": "markdown",
   "id": "0f9f57a2",
   "metadata": {},
   "source": [
    "# Question 9 (a)"
   ]
  },
  {
   "cell_type": "code",
   "execution_count": 1,
   "id": "a6820dbc",
   "metadata": {},
   "outputs": [
    {
     "ename": "TypeError",
     "evalue": "unsupported operand type(s) for +: 'int' and 'str'",
     "output_type": "error",
     "traceback": [
      "\u001b[1;31m---------------------------------------------------------------------------\u001b[0m",
      "\u001b[1;31mTypeError\u001b[0m                                 Traceback (most recent call last)",
      "\u001b[1;32m~\\AppData\\Local\\Temp\\ipykernel_10928\\1678765637.py\u001b[0m in \u001b[0;36m<module>\u001b[1;34m\u001b[0m\n\u001b[1;32m----> 1\u001b[1;33m \u001b[0mprint\u001b[0m\u001b[1;33m(\u001b[0m\u001b[1;36m6\u001b[0m\u001b[1;33m+\u001b[0m\u001b[1;34m'a'\u001b[0m\u001b[1;33m)\u001b[0m\u001b[1;33m\u001b[0m\u001b[1;33m\u001b[0m\u001b[0m\n\u001b[0m",
      "\u001b[1;31mTypeError\u001b[0m: unsupported operand type(s) for +: 'int' and 'str'"
     ]
    }
   ],
   "source": [
    "print(6+'a')"
   ]
  },
  {
   "cell_type": "markdown",
   "id": "10d1c56e",
   "metadata": {},
   "source": [
    "# Question 9 (b)"
   ]
  },
  {
   "cell_type": "code",
   "execution_count": 3,
   "id": "531e6d27",
   "metadata": {},
   "outputs": [
    {
     "ename": "IndexError",
     "evalue": "list index out of range",
     "output_type": "error",
     "traceback": [
      "\u001b[1;31m---------------------------------------------------------------------------\u001b[0m",
      "\u001b[1;31mIndexError\u001b[0m                                Traceback (most recent call last)",
      "\u001b[1;32m~\\AppData\\Local\\Temp\\ipykernel_10928\\2330686817.py\u001b[0m in \u001b[0;36m<module>\u001b[1;34m\u001b[0m\n\u001b[0;32m      1\u001b[0m \u001b[0mnumber\u001b[0m\u001b[1;33m=\u001b[0m\u001b[1;33m[\u001b[0m\u001b[1;36m4\u001b[0m\u001b[1;33m,\u001b[0m\u001b[1;36m6\u001b[0m\u001b[1;33m,\u001b[0m\u001b[1;36m7\u001b[0m\u001b[1;33m]\u001b[0m\u001b[1;33m\u001b[0m\u001b[1;33m\u001b[0m\u001b[0m\n\u001b[1;32m----> 2\u001b[1;33m \u001b[0mprint\u001b[0m\u001b[1;33m(\u001b[0m\u001b[0mnumber\u001b[0m\u001b[1;33m[\u001b[0m\u001b[1;36m8\u001b[0m\u001b[1;33m]\u001b[0m\u001b[1;33m)\u001b[0m\u001b[1;33m\u001b[0m\u001b[1;33m\u001b[0m\u001b[0m\n\u001b[0m",
      "\u001b[1;31mIndexError\u001b[0m: list index out of range"
     ]
    }
   ],
   "source": [
    "number=[4,6,7]\n",
    "print(number[8])"
   ]
  },
  {
   "cell_type": "markdown",
   "id": "004728f4",
   "metadata": {},
   "source": [
    "# Question 9 (c)"
   ]
  },
  {
   "cell_type": "code",
   "execution_count": 4,
   "id": "1a977ff0",
   "metadata": {},
   "outputs": [
    {
     "ename": "ValueError",
     "evalue": "list.remove(x): x not in list",
     "output_type": "error",
     "traceback": [
      "\u001b[1;31m---------------------------------------------------------------------------\u001b[0m",
      "\u001b[1;31mValueError\u001b[0m                                Traceback (most recent call last)",
      "\u001b[1;32m~\\AppData\\Local\\Temp\\ipykernel_10928\\301256464.py\u001b[0m in \u001b[0;36m<module>\u001b[1;34m\u001b[0m\n\u001b[0;32m      1\u001b[0m \u001b[0mlist_of_countries\u001b[0m\u001b[1;33m=\u001b[0m\u001b[1;33m[\u001b[0m\u001b[1;34m\"Canada\"\u001b[0m\u001b[1;33m,\u001b[0m \u001b[1;34m\"Russia\"\u001b[0m\u001b[1;33m]\u001b[0m\u001b[1;33m\u001b[0m\u001b[1;33m\u001b[0m\u001b[0m\n\u001b[1;32m----> 2\u001b[1;33m \u001b[0mlist_of_countries\u001b[0m\u001b[1;33m.\u001b[0m\u001b[0mremove\u001b[0m\u001b[1;33m(\u001b[0m\u001b[1;34m\"India\"\u001b[0m\u001b[1;33m)\u001b[0m\u001b[1;33m\u001b[0m\u001b[1;33m\u001b[0m\u001b[0m\n\u001b[0m",
      "\u001b[1;31mValueError\u001b[0m: list.remove(x): x not in list"
     ]
    }
   ],
   "source": [
    "list_of_countries=[\"Canada\", \"Russia\"]\n",
    "list_of_countries.remove(\"India\")"
   ]
  },
  {
   "cell_type": "markdown",
   "id": "1f6135e7",
   "metadata": {},
   "source": [
    "# Question 9 (d)"
   ]
  },
  {
   "cell_type": "code",
   "execution_count": 5,
   "id": "3f7c32be",
   "metadata": {},
   "outputs": [
    {
     "ename": "NameError",
     "evalue": "name 'cell' is not defined",
     "output_type": "error",
     "traceback": [
      "\u001b[1;31m---------------------------------------------------------------------------\u001b[0m",
      "\u001b[1;31mNameError\u001b[0m                                 Traceback (most recent call last)",
      "\u001b[1;32m~\\AppData\\Local\\Temp\\ipykernel_10928\\3434724673.py\u001b[0m in \u001b[0;36m<module>\u001b[1;34m\u001b[0m\n\u001b[1;32m----> 1\u001b[1;33m \u001b[0mprint\u001b[0m\u001b[1;33m(\u001b[0m\u001b[0mcell\u001b[0m\u001b[1;33m[\u001b[0m\u001b[1;36m7\u001b[0m\u001b[1;33m]\u001b[0m\u001b[1;33m)\u001b[0m\u001b[1;33m\u001b[0m\u001b[1;33m\u001b[0m\u001b[0m\n\u001b[0m",
      "\u001b[1;31mNameError\u001b[0m: name 'cell' is not defined"
     ]
    }
   ],
   "source": [
    "print(cell[7])"
   ]
  },
  {
   "cell_type": "markdown",
   "id": "2343c6f5",
   "metadata": {},
   "source": [
    "# Question 9 (e)"
   ]
  },
  {
   "cell_type": "code",
   "execution_count": 6,
   "id": "649ad2d8",
   "metadata": {},
   "outputs": [
    {
     "ename": "FileNotFoundError",
     "evalue": "[Errno 2] No such file or directory: 'abc.txt'",
     "output_type": "error",
     "traceback": [
      "\u001b[1;31m---------------------------------------------------------------------------\u001b[0m",
      "\u001b[1;31mFileNotFoundError\u001b[0m                         Traceback (most recent call last)",
      "\u001b[1;32m~\\AppData\\Local\\Temp\\ipykernel_10928\\988626238.py\u001b[0m in \u001b[0;36m<module>\u001b[1;34m\u001b[0m\n\u001b[1;32m----> 1\u001b[1;33m \u001b[0mopen\u001b[0m\u001b[1;33m(\u001b[0m\u001b[1;34m'abc.txt'\u001b[0m\u001b[1;33m)\u001b[0m\u001b[1;33m\u001b[0m\u001b[1;33m\u001b[0m\u001b[0m\n\u001b[0m",
      "\u001b[1;31mFileNotFoundError\u001b[0m: [Errno 2] No such file or directory: 'abc.txt'"
     ]
    }
   ],
   "source": [
    "open('abc.txt')"
   ]
  },
  {
   "cell_type": "markdown",
   "id": "659cc6ee",
   "metadata": {},
   "source": [
    "# Question 10"
   ]
  },
  {
   "cell_type": "code",
   "execution_count": 20,
   "id": "0cda5af4",
   "metadata": {},
   "outputs": [
    {
     "name": "stdout",
     "output_type": "stream",
     "text": [
      "[1, 0, 0, 0, 1, 0, 0, 0, 0, 0, 0, 1, 0, 0, 0, 2, 0, 0, 0, 0, 0, 0, 0, 0, 0, 0]\n"
     ]
    }
   ],
   "source": [
    "def frequencies(text):\n",
    "    letters ='abcdefghijklmnopqrstuvwxyz'\n",
    "    frequenciesList=[]\n",
    "    for char in letters:\n",
    "        count = text.count(char)\n",
    "        frequenciesList.append(count)\n",
    "    print(frequenciesList)\n",
    "    \n",
    "#frequencies('The quick red fox got bored and went home.')\n",
    "frequencies('apple')"
   ]
  }
 ],
 "metadata": {
  "kernelspec": {
   "display_name": "Python 3 (ipykernel)",
   "language": "python",
   "name": "python3"
  },
  "language_info": {
   "codemirror_mode": {
    "name": "ipython",
    "version": 3
   },
   "file_extension": ".py",
   "mimetype": "text/x-python",
   "name": "python",
   "nbconvert_exporter": "python",
   "pygments_lexer": "ipython3",
   "version": "3.9.13"
  }
 },
 "nbformat": 4,
 "nbformat_minor": 5
}
