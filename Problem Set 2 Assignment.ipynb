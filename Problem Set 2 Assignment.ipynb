{
 "cells": [
  {
   "cell_type": "markdown",
   "id": "997da6b4",
   "metadata": {},
   "source": [
    "# Probelm Set 2  BDAT 1004 SEC 03"
   ]
  },
  {
   "cell_type": "markdown",
   "id": "a047da6b",
   "metadata": {},
   "source": [
    "# Question 1"
   ]
  },
  {
   "cell_type": "code",
   "execution_count": 3,
   "id": "59aabde8",
   "metadata": {},
   "outputs": [
    {
     "name": "stdout",
     "output_type": "stream",
     "text": [
      "None\n",
      "None\n",
      "None\n",
      "6\n"
     ]
    }
   ],
   "source": [
    "a = 0            # the variable 'a' is set to 0\n",
    "def b():               # define a function named b \n",
    " global a            # it tells the fuction b to use the global variable a rather than creating a new local varibale with the same name a \n",
    " a = c(a)\n",
    "def c(a):\n",
    " return a + 2\n",
    "\n",
    "print(b())            \n",
    "print(b())\n",
    "print(b())\n",
    "print(a)"
   ]
  },
  {
   "cell_type": "markdown",
   "id": "925bb5b1",
   "metadata": {},
   "source": [
    "The module defines a global variable 'a' with an initial value of 0, as well as two functions 'b' and 'c'. The 'b' function sets a to the result of calling the 'c' function with the current value of a plus 2. The 'c' function takes an argument 'a' and returns 'a' plus 2. When the 'b' function is called three times, it updates the global variable 'a' by adding 2 to it each time. Finally, when the value of 'a' is evaluated in the interpreter, it displays the current value of the global variable 'a', which is 6."
   ]
  },
  {
   "cell_type": "markdown",
   "id": "aecfe7f5",
   "metadata": {},
   "source": [
    "# Question 2"
   ]
  },
  {
   "cell_type": "code",
   "execution_count": 2,
   "id": "dec033a5",
   "metadata": {},
   "outputs": [
    {
     "name": "stdout",
     "output_type": "stream",
     "text": [
      "The size of myfile.txt is 123 bytes.\n"
     ]
    }
   ],
   "source": [
    "import os              \n",
    "\n",
    "def file_length(file_name):   # defines a function \"file_length\" and it takes a file name\n",
    "    file = open(file_name)           # file is opened by the function\n",
    "    contents = file.read()        # function reads the content \n",
    "    file.close()\n",
    "    if os.path.isfile(file_name):           # used os.path.isfile to chcek does file exist\n",
    "        return len(contents)                     # used len(contents) if the file exists, it will return thr length of the contents string\n",
    "    else:\n",
    "        return -1  # Return -1 if the file doesn't exist\n",
    "\n",
    "filename = 'myfile.txt'                 \n",
    "filesize = file_length(filename)  # filename is a variable which contains filename and it calls to function \n",
    "\n",
    "if filesize != -1:                             # filesize is not equal to -1\n",
    "    print(f'The size of {filename} is {filesize} bytes.')\n",
    "else:\n",
    "    print(f'{filename} does not exist.')"
   ]
  },
  {
   "cell_type": "code",
   "execution_count": 9,
   "id": "5522d30f",
   "metadata": {},
   "outputs": [
    {
     "name": "stdout",
     "output_type": "stream",
     "text": [
      "123\n",
      "File idterm.py not found.\n"
     ]
    }
   ],
   "source": [
    "def file_Length(fl):\n",
    "    try:\n",
    "        with open(fl, 'r') as infile:\n",
    "            contents = infile.read()\n",
    "            return len(contents)\n",
    "    except FileNotFoundError:\n",
    "        print(\"File {} not found.\".format(fl))\n",
    "    except:\n",
    "        print(\"Error reading file {}.\".format(fl))\n",
    "print(file_Length('midterm.py'))\n",
    "\n",
    "(file_Length('idterm.py'))"
   ]
  },
  {
   "cell_type": "markdown",
   "id": "34b56f0a",
   "metadata": {},
   "source": [
    "# Question 3"
   ]
  },
  {
   "cell_type": "code",
   "execution_count": 26,
   "id": "b423f23e",
   "metadata": {},
   "outputs": [
    {
     "name": "stdout",
     "output_type": "stream",
     "text": [
      "I am a Kangaroo located at coordinates (0,0)\n"
     ]
    },
    {
     "data": {
      "text/plain": [
       "['doll', 'firetruck', 'kitten']"
      ]
     },
     "execution_count": 26,
     "metadata": {},
     "output_type": "execute_result"
    }
   ],
   "source": [
    "class Marsupial:\n",
    "    def __init__(self):\n",
    "        self.pouch = []\n",
    "    \n",
    "    def put_in_pouch(self, item):\n",
    "        self.pouch.append(item)\n",
    "    \n",
    "    def pouch_contents(self):\n",
    "        return self.pouch\n",
    "    \n",
    "class Kangaroo(Marsupial):\n",
    "    def __init__(self, x, y):\n",
    "        super().__init__()\n",
    "        self.x = x\n",
    "        self.y = y\n",
    "    def jump(self, dx, dy):\n",
    "        self.x += dx\n",
    "        self.y += dy\n",
    "    \n",
    "    def __str__(self):\n",
    "        return \"I am a Kangaroo located at coordinates ({},{})\".format(self.x, self.y)\n",
    "\n",
    "k = Kangaroo(0,0)\n",
    "print(k)\n",
    "\n",
    "k.put_in_pouch('doll')\n",
    "k.put_in_pouch('firetruck')\n",
    "k.put_in_pouch('kitten')\n",
    "k.pouch_contents()\n",
    "\n",
    "\n"
   ]
  },
  {
   "cell_type": "code",
   "execution_count": 27,
   "id": "72461618",
   "metadata": {},
   "outputs": [
    {
     "name": "stdout",
     "output_type": "stream",
     "text": [
      "I am a Kangaroo located at coordinates (3,0)\n"
     ]
    }
   ],
   "source": [
    "k.jump(1,0)\n",
    "k.jump(1,0)\n",
    "k.jump(1,0)\n",
    "print(k)\n"
   ]
  },
  {
   "cell_type": "markdown",
   "id": "52c308cc",
   "metadata": {},
   "source": [
    "# Question 4"
   ]
  },
  {
   "cell_type": "code",
   "execution_count": 21,
   "id": "a1022dcb",
   "metadata": {},
   "outputs": [
    {
     "name": "stdout",
     "output_type": "stream",
     "text": [
      "1\n",
      "10\n",
      "5\n",
      "16\n",
      "8\n",
      "4\n",
      "2\n",
      "1\n"
     ]
    }
   ],
   "source": [
    "def collatz(x):\n",
    "    if x == 1:\n",
    "        print(x)\n",
    "    elif x % 2 == 0:\n",
    "        print(x)\n",
    "        collatz(x // 2)\n",
    "    else:\n",
    "        print(x)\n",
    "        collatz(3 * x + 1)\n",
    "        \n",
    "collatz(1)\n",
    "\n",
    "collatz(10)"
   ]
  },
  {
   "cell_type": "markdown",
   "id": "04c6347c",
   "metadata": {},
   "source": [
    "# Question 5"
   ]
  },
  {
   "cell_type": "code",
   "execution_count": 1,
   "id": "87861790",
   "metadata": {},
   "outputs": [
    {
     "name": "stdout",
     "output_type": "stream",
     "text": [
      "0\n",
      "1\n",
      "11\n",
      "1010\n"
     ]
    }
   ],
   "source": [
    "def binary(n):\n",
    "    if n == 0:\n",
    "        return '0'\n",
    "    elif n == 1:\n",
    "        return '1'\n",
    "    else:\n",
    "        return binary(n // 2) + str(n % 2)\n",
    "n = 0\n",
    "print(binary(n))\n",
    "n = 1\n",
    "print(binary(n))\n",
    "n = 3\n",
    "print(binary(n))\n",
    "n = 10\n",
    "print(binary(n))\n"
   ]
  },
  {
   "cell_type": "markdown",
   "id": "f36bf99e",
   "metadata": {},
   "source": [
    "# Question 6"
   ]
  },
  {
   "cell_type": "code",
   "execution_count": 41,
   "id": "b6657833",
   "metadata": {},
   "outputs": [
    {
     "ename": "SyntaxError",
     "evalue": "invalid syntax (971597912.py, line 15)",
     "output_type": "error",
     "traceback": [
      "\u001b[1;36m  File \u001b[1;32m\"C:\\Users\\Eagle\\AppData\\Local\\Temp\\ipykernel_19180\\971597912.py\"\u001b[1;36m, line \u001b[1;32m15\u001b[0m\n\u001b[1;33m    except Exception as e:\u001b[0m\n\u001b[1;37m    ^\u001b[0m\n\u001b[1;31mSyntaxError\u001b[0m\u001b[1;31m:\u001b[0m invalid syntax\n"
     ]
    }
   ],
   "source": [
    "import requests\n",
    "from bs4 import Beautifulsoup\n",
    "\n",
    "def webdir(url, depth, indent=0):\n",
    "    if depth == 0:\n",
    "        return \n",
    "    try:\n",
    "        response = requests.get(url)\n",
    "        soup = Beautifuloup(response.txt, 'html.parser')\n",
    "        print('' * indent + url)\n",
    "        for link in soup.find_all('a'):\n",
    "            href = link.get('href')\n",
    "            if href.statswith('http'):\n",
    "                webdir(href, depth-1, indent+2)\n",
    "                except Exception as e:\n",
    "                    print('' * indent + f'{url} - {e}')\n",
    "                    \n",
    "infile = open('w3c.html')\n",
    "content = infile.read()\n",
    "infile.close()\n",
    "hp = HeadingParser()\n",
    "hp.feed(content)"
   ]
  },
  {
   "cell_type": "markdown",
   "id": "7fe22f36",
   "metadata": {},
   "source": [
    "# Question 7"
   ]
  },
  {
   "cell_type": "code",
   "execution_count": null,
   "id": "f2f09147",
   "metadata": {},
   "outputs": [],
   "source": []
  },
  {
   "cell_type": "code",
   "execution_count": null,
   "id": "a09aec0e",
   "metadata": {},
   "outputs": [],
   "source": []
  },
  {
   "cell_type": "markdown",
   "id": "16a20055",
   "metadata": {},
   "source": [
    "# Question 8"
   ]
  },
  {
   "cell_type": "code",
   "execution_count": 6,
   "id": "fbcfd4e2",
   "metadata": {},
   "outputs": [
    {
     "name": "stdout",
     "output_type": "stream",
     "text": [
      "[(24.8,), (28.4,), (27.9,), (27.6,), (4.2,), (8.3,), (15.7,), (10.4,), (13.6,), (20.7,), (27.7,), (22.2,)]\n",
      "[('Mumbai',), ('London',), ('Cairo',)]\n",
      "[('Mumbai', 'India', 'Winter', 24.8, 5.9), ('Mumbai', 'India', 'Spring', 28.4, 16.2), ('Mumbai', 'India', 'Summer', 27.9, 1549.4), ('Mumbai', 'India', 'Fall', 27.6, 346.0)]\n",
      "[('Mumbai', 'India', 'Fall', 27.6, 346.0), ('London', 'United Kingdom', 'Fall', 10.4, 218.5), ('Cairo', 'Egypt', 'Fall', 22.2, 4.5)]\n",
      "[('London', 'United Kingdom', 'Fall'), ('London', 'United Kingdom', 'Winter'), ('Mumbai', 'India', 'Fall')]\n",
      "[('Cairo', 'Egypt'), ('Mumbai', 'India')]\n",
      "[(27.6,)]\n",
      "[('Fall', 569.0), ('Spring', 192.29999999999998), ('Summer', 1706.5), ('Winter', 230.1)]\n"
     ]
    }
   ],
   "source": [
    "import sqlite3\n",
    "\n",
    "conn = sqlite3.connect('climate_data1.db')\n",
    "\n",
    "c = conn.cursor()\n",
    "\n",
    "c.execute('''CREATE TABLE climate_data (\n",
    "                City TEXT,\n",
    "                Country TEXT,\n",
    "                Season TEXT,\n",
    "                Temperature REAL,\n",
    "                Rainfall REAL\n",
    "            )''')\n",
    "\n",
    "# Insert the data into the table\n",
    "data = [\n",
    "    ('Mumbai', 'India', 'Winter', 24.8, 5.9),\n",
    "    ('Mumbai', 'India', 'Spring', 28.4, 16.2),\n",
    "    ('Mumbai', 'India', 'Summer', 27.9, 1549.4),\n",
    "    ('Mumbai', 'India', 'Fall', 27.6, 346.0),\n",
    "    ('London', 'United Kingdom', 'Winter', 4.2, 207.7),\n",
    "    ('London', 'United Kingdom', 'Spring', 8.3, 169.6),\n",
    "    ('London', 'United Kingdom', 'Summer', 15.7, 157.0),\n",
    "    ('London', 'United Kingdom', 'Fall', 10.4, 218.5),\n",
    "    ('Cairo', 'Egypt', 'Winter', 13.6, 16.5),\n",
    "    ('Cairo', 'Egypt', 'Spring', 20.7, 6.5),\n",
    "    ('Cairo', 'Egypt', 'Summer', 27.7, 0.1),\n",
    "    ('Cairo', 'Egypt', 'Fall', 22.2, 4.5),\n",
    "]\n",
    "\n",
    "c.executemany('INSERT INTO climate_data VALUES (?, ?, ?, ?, ?)', data)\n",
    "\n",
    "\n",
    "conn.commit()                  # Commit the changes to the database\n",
    "\n",
    "\n",
    "c.execute('SELECT Temperature FROM climate_data')  # SQL queries\n",
    "print(c.fetchall())\n",
    "\n",
    "c.execute('SELECT DISTINCT City FROM climate_data')\n",
    "print(c.fetchall())\n",
    "\n",
    "c.execute('SELECT * FROM climate_data WHERE Country=\"India\"')\n",
    "print(c.fetchall())\n",
    "\n",
    "c.execute('SELECT * FROM climate_data WHERE Season=\"Fall\"')\n",
    "print(c.fetchall())\n",
    "\n",
    "c.execute('SELECT City, Country, Season FROM climate_data WHERE Rainfall BETWEEN 200 AND 400 GROUP BY City, Country, Season')\n",
    "print(c.fetchall())\n",
    "\n",
    "c.execute('SELECT City, Country FROM climate_data WHERE Season=\"Fall\" GROUP BY City, Country HAVING AVG(Temperature) > 20 ORDER BY AVG(Temperature) ASC')\n",
    "print(c.fetchall())\n",
    "\n",
    "c.execute('SELECT SUM(Rainfall) FROM climate_data WHERE City=\"Cairo\"')\n",
    "print(c.fetchall())\n",
    "\n",
    "c.execute('SELECT Season, SUM(Rainfall) FROM climate_data GROUP BY Season')\n",
    "print(c.fetchall())\n",
    "\n",
    "# Close the connection \n",
    "conn.close()\n"
   ]
  },
  {
   "cell_type": "markdown",
   "id": "9d911c83",
   "metadata": {},
   "source": [
    "# Question 9"
   ]
  },
  {
   "cell_type": "code",
   "execution_count": 36,
   "id": "8157c7bd",
   "metadata": {},
   "outputs": [
    {
     "name": "stdout",
     "output_type": "stream",
     "text": [
      "['THE', 'QUICK', 'BROWN', 'FOX', 'JUMPS', 'OVER', 'THE', 'LAZY', 'DOG']\n"
     ]
    }
   ],
   "source": [
    "words = ['The', 'quick', 'brown', 'fox', 'jumps', 'over', 'the', 'lazy', 'dog']\n",
    "uppercase_words = [element.upper() for element in words]\n",
    "print(uppercase_words)\n"
   ]
  },
  {
   "cell_type": "code",
   "execution_count": 37,
   "id": "11827cfa",
   "metadata": {},
   "outputs": [
    {
     "name": "stdout",
     "output_type": "stream",
     "text": [
      "['the', 'quick', 'brown', 'fox', 'jumps', 'over', 'the', 'lazy', 'dog']\n"
     ]
    }
   ],
   "source": [
    "lowercase_words = [element.lower() for element in words]\n",
    "print(lowercase_words)"
   ]
  },
  {
   "cell_type": "code",
   "execution_count": 38,
   "id": "34f4b0ae",
   "metadata": {},
   "outputs": [
    {
     "data": {
      "text/plain": [
       "[3, 5, 5, 3, 5, 4, 3, 4, 3]"
      ]
     },
     "execution_count": 38,
     "metadata": {},
     "output_type": "execute_result"
    }
   ],
   "source": [
    "[len(element) for element in words]"
   ]
  },
  {
   "cell_type": "code",
   "execution_count": 39,
   "id": "b08ebe0a",
   "metadata": {},
   "outputs": [
    {
     "data": {
      "text/plain": [
       "[['THE', 'the', 3],\n",
       " ['QUICK', 'quick', 5],\n",
       " ['BROWN', 'brown', 5],\n",
       " ['FOX', 'fox', 3],\n",
       " ['JUMPS', 'jumps', 5],\n",
       " ['OVER', 'over', 4],\n",
       " ['THE', 'the', 3],\n",
       " ['LAZY', 'lazy', 4],\n",
       " ['DOG', 'dog', 3]]"
      ]
     },
     "execution_count": 39,
     "metadata": {},
     "output_type": "execute_result"
    }
   ],
   "source": [
    "[[element.upper(), element.lower(), len(element)] for element in words]"
   ]
  },
  {
   "cell_type": "code",
   "execution_count": 40,
   "id": "b83abade",
   "metadata": {},
   "outputs": [
    {
     "data": {
      "text/plain": [
       "['quick', 'brown', 'jumps', 'over', 'lazy']"
      ]
     },
     "execution_count": 40,
     "metadata": {},
     "output_type": "execute_result"
    }
   ],
   "source": [
    "[element for element in words if len(element) >= 4]"
   ]
  }
 ],
 "metadata": {
  "kernelspec": {
   "display_name": "Python 3 (ipykernel)",
   "language": "python",
   "name": "python3"
  },
  "language_info": {
   "codemirror_mode": {
    "name": "ipython",
    "version": 3
   },
   "file_extension": ".py",
   "mimetype": "text/x-python",
   "name": "python",
   "nbconvert_exporter": "python",
   "pygments_lexer": "ipython3",
   "version": "3.9.13"
  }
 },
 "nbformat": 4,
 "nbformat_minor": 5
}
